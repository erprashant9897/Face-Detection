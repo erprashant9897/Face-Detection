{
 "cells": [
  {
   "cell_type": "code",
   "execution_count": 6,
   "metadata": {},
   "outputs": [],
   "source": [
    "#Importing Module CV2\n",
    "import cv2\n",
    "\n",
    "#Starting internal webcam of system using VideoCapture(0)\n",
    "cap = cv2.VideoCapture(0)\n",
    "\n",
    "#Return and Save the photo using ret, photo \n",
    "ret, photo = cap.read()\n",
    "\n",
    "#Show the captured image using imshow()\n",
    "cv2.imshow('This is testing', photo)\n",
    "cv2.waitKey()\n",
    "cv2.destroyAllWindows()\n",
    "\n",
    "#Releasing the Camera\n",
    "cap.release()"
   ]
  }
 ],
 "metadata": {
  "kernelspec": {
   "display_name": "Python 3",
   "language": "python",
   "name": "python3"
  },
  "language_info": {
   "codemirror_mode": {
    "name": "ipython",
    "version": 3
   },
   "file_extension": ".py",
   "mimetype": "text/x-python",
   "name": "python",
   "nbconvert_exporter": "python",
   "pygments_lexer": "ipython3",
   "version": "3.8.5"
  }
 },
 "nbformat": 4,
 "nbformat_minor": 4
}
